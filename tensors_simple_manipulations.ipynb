{
 "cells": [
  {
   "cell_type": "markdown",
   "id": "58ef7d61-dd08-4e95-ab9c-dadef9c5bd33",
   "metadata": {},
   "source": [
    "# Tensors are the keystone of pytorch"
   ]
  },
  {
   "cell_type": "markdown",
   "id": "4fa31453-0acc-42ea-b141-c37beb7ee6b9",
   "metadata": {},
   "source": [
    "This notbook is inspired from the official pytorch website at the following link: https://pytorch.org/tutorials/beginner/blitz/tensor_tutorial.html"
   ]
  },
  {
   "cell_type": "markdown",
   "id": "75d4a4c9-47d9-4cc5-acc1-d89dc78add19",
   "metadata": {},
   "source": [
    "---\n",
    "## <span style=\"color:red\">Tensors</span>"
   ]
  },
  {
   "cell_type": "markdown",
   "id": "7d038da3-7f72-4d25-bd67-d8b45b69f13e",
   "metadata": {},
   "source": [
    "Tensors are a specialized data structure that are very similar to arrays and matrices. In PyTorch, we use tensors to encode the inputs and outputs of a model, as well as the model’s parameters"
   ]
  },
  {
   "cell_type": "markdown",
   "id": "8434afee-7165-47c2-9ae4-73718e6c2bf5",
   "metadata": {},
   "source": [
    "Tensors are similar to NumPy’s ndarrays, except that tensors can run on GPUs or other specialized hardware to accelerate computing. "
   ]
  },
  {
   "cell_type": "code",
   "execution_count": 3,
   "id": "aef36432-50db-4965-8bda-7a5ffb76b16f",
   "metadata": {
    "tags": []
   },
   "outputs": [],
   "source": [
    "import torch\n",
    "import numpy as np"
   ]
  },
  {
   "cell_type": "markdown",
   "id": "65c5a375-f081-4469-83bb-3fe773c1da16",
   "metadata": {
    "tags": []
   },
   "source": [
    "---\n",
    "## <span style=\"color:red\">Tensor Initialization</span>"
   ]
  },
  {
   "cell_type": "markdown",
   "id": "44cf4525-3338-43a7-b4c1-946d698f27b2",
   "metadata": {
    "tags": []
   },
   "source": [
    "---\n",
    "### Directly from data:"
   ]
  },
  {
   "cell_type": "markdown",
   "id": "82ccfe47-e669-42ac-a176-48be8ab8b536",
   "metadata": {},
   "source": [
    "Tensors can be created directly from data. The data type is automatically inferred."
   ]
  },
  {
   "cell_type": "code",
   "execution_count": 4,
   "id": "af57afe0-dca6-417e-91b3-d8a19f712198",
   "metadata": {
    "tags": []
   },
   "outputs": [],
   "source": [
    "data = [[1, 2], [3, 4]]\n",
    "x_data = torch.tensor(data)"
   ]
  },
  {
   "cell_type": "code",
   "execution_count": 55,
   "id": "e2f88b14-d1bc-43c0-9cb0-259d8a4c63da",
   "metadata": {
    "tags": []
   },
   "outputs": [
    {
     "name": "stdout",
     "output_type": "stream",
     "text": [
      "Type of data = <class 'list'>\n",
      "Length of data = 2\n",
      "data = \n",
      " [[1, 2], [3, 4]] \n",
      "\n",
      "\n",
      "Type of x_data = <class 'torch.Tensor'>\n",
      "Length of x_data = 2\n",
      "Size of x_data = torch.Size([2, 2])\n",
      "x_data = \n",
      " tensor([[1, 2],\n",
      "        [3, 4]]) \n",
      "\n"
     ]
    }
   ],
   "source": [
    "print(\"Type of data =\", type(data))\n",
    "print(\"Length of data =\", len(data))\n",
    "print(f\"data = \\n {data} \\n\")\n",
    "print(\"\")\n",
    "print(\"Type of x_data =\", type(x_data))\n",
    "print(\"Length of x_data =\", len(x_data))\n",
    "print(\"Size of x_data =\", x_data.shape)\n",
    "print(f\"x_data = \\n {x_data} \\n\")"
   ]
  },
  {
   "cell_type": "markdown",
   "id": "6189797c-26cb-4ea2-bbd4-9617f762ce1d",
   "metadata": {},
   "source": [
    "---\n",
    "### From a NumPy array:"
   ]
  },
  {
   "cell_type": "markdown",
   "id": "803c5cff-d397-4053-bfdc-149c69ccf41d",
   "metadata": {},
   "source": [
    "Tensors can be created from NumPy arrays (and vice versa)"
   ]
  },
  {
   "cell_type": "code",
   "execution_count": 32,
   "id": "9ab1a210-0060-4944-9c12-befa0dc759da",
   "metadata": {
    "tags": []
   },
   "outputs": [],
   "source": [
    "# np_array = np.array(data) # equivalent to np.array([[1,2],[3,4]])\n",
    "np_array = np.array([[1,2],[3,4]])  # equivalent to np_array = np.array(data)\n",
    "x_np = torch.from_numpy(np_array)"
   ]
  },
  {
   "cell_type": "code",
   "execution_count": 54,
   "id": "8e948f47-ad6e-44ff-b93d-1d2777009110",
   "metadata": {
    "tags": []
   },
   "outputs": [
    {
     "name": "stdout",
     "output_type": "stream",
     "text": [
      "Type of np_array = <class 'numpy.ndarray'>\n",
      "Size of data = (2, 2)\n",
      "np_array = \n",
      " [[1 2]\n",
      " [3 4]] \n",
      "\n",
      "\n",
      "Type of x_np = <class 'torch.Tensor'>\n",
      "Size of x_np = torch.Size([2, 2])\n",
      "x_n = \n",
      " tensor([[1, 2],\n",
      "        [3, 4]]) \n",
      "\n"
     ]
    }
   ],
   "source": [
    "print(\"Type of np_array =\", type(np_array))\n",
    "print(\"Size of data =\", np_array.shape)\n",
    "print(f\"np_array = \\n {np_array} \\n\")\n",
    "print(\"\")\n",
    "print(\"Type of x_np =\", type(x_np))\n",
    "print(\"Size of x_np =\", x_np.shape)\n",
    "print(f\"x_n = \\n {x_np} \\n\")"
   ]
  },
  {
   "cell_type": "markdown",
   "id": "7c01eae6-17a4-4a7e-8154-1ec402a6dd57",
   "metadata": {},
   "source": [
    "---\n",
    "### From another tensor:"
   ]
  },
  {
   "cell_type": "markdown",
   "id": "193b8955-90e2-4352-a916-ef5c5951bdb8",
   "metadata": {},
   "source": [
    "The new tensor retains the properties (shape, datatype) of the argument tensor, unless explicitly overridden."
   ]
  },
  {
   "cell_type": "code",
   "execution_count": 34,
   "id": "d6bb4430-4756-46f0-939d-c3b096c155ad",
   "metadata": {
    "tags": []
   },
   "outputs": [
    {
     "name": "stdout",
     "output_type": "stream",
     "text": [
      "Ones Tensor: \n",
      " tensor([[1, 1],\n",
      "        [1, 1]]) \n",
      "\n"
     ]
    }
   ],
   "source": [
    "x_ones = torch.ones_like(x_data) # retains the properties of x_data\n",
    "print(f\"Ones Tensor: \\n {x_ones} \\n\")"
   ]
  },
  {
   "cell_type": "code",
   "execution_count": 35,
   "id": "485210d8-5fb4-4d5f-8f67-7c417da6e75b",
   "metadata": {
    "tags": []
   },
   "outputs": [
    {
     "name": "stdout",
     "output_type": "stream",
     "text": [
      "Random Tensor: \n",
      " tensor([[0.5746, 0.8111],\n",
      "        [0.5329, 0.0621]]) \n",
      "\n"
     ]
    }
   ],
   "source": [
    "x_rand = torch.rand_like(x_data, dtype=torch.float) # overrides the datatype of x_data\n",
    "print(f\"Random Tensor: \\n {x_rand} \\n\")"
   ]
  },
  {
   "cell_type": "markdown",
   "id": "c724eabb-a378-4f3f-8965-1696c7ecdbe6",
   "metadata": {},
   "source": [
    "---\n",
    "### With random or constant values:"
   ]
  },
  {
   "cell_type": "markdown",
   "id": "25a602de-ce24-401f-864f-31ed69b8ca06",
   "metadata": {},
   "source": [
    "shape is a tuple of tensor dimensions. In the functions below, it determines the dimensionality of the output tensor."
   ]
  },
  {
   "cell_type": "code",
   "execution_count": 42,
   "id": "ecbaebba-dbef-4bf0-8b61-e0ff46a5b145",
   "metadata": {
    "tags": []
   },
   "outputs": [
    {
     "name": "stdout",
     "output_type": "stream",
     "text": [
      "Type of shape = <class 'tuple'>\n",
      "Size of shape = 2\n",
      "(2, 3)\n"
     ]
    }
   ],
   "source": [
    "shape = (2, 3,)\n",
    "print(\"Type of shape =\", type(shape))\n",
    "print(\"Size of shape =\", len(shape))\n",
    "print(shape)"
   ]
  },
  {
   "cell_type": "code",
   "execution_count": 43,
   "id": "adea3290-435e-4834-bb6c-50d7d1ccb744",
   "metadata": {
    "tags": []
   },
   "outputs": [
    {
     "name": "stdout",
     "output_type": "stream",
     "text": [
      "Random Tensor: \n",
      " tensor([[0.6980, 0.6079, 0.2294],\n",
      "        [0.5536, 0.4875, 0.0545]]) \n",
      "\n",
      "Ones Tensor: \n",
      " tensor([[1., 1., 1.],\n",
      "        [1., 1., 1.]]) \n",
      "\n",
      "Zeros Tensor: \n",
      " tensor([[0., 0., 0.],\n",
      "        [0., 0., 0.]])\n"
     ]
    }
   ],
   "source": [
    "rand_tensor = torch.rand(shape)\n",
    "ones_tensor = torch.ones(shape)\n",
    "zeros_tensor = torch.zeros(shape)\n",
    "\n",
    "print(f\"Random Tensor: \\n {rand_tensor} \\n\")\n",
    "print(f\"Ones Tensor: \\n {ones_tensor} \\n\")\n",
    "print(f\"Zeros Tensor: \\n {zeros_tensor}\")"
   ]
  },
  {
   "cell_type": "markdown",
   "id": "f69c4605-0616-4d26-bf94-f7a36f80c339",
   "metadata": {
    "tags": []
   },
   "source": [
    "---\n",
    "## <span style=\"color:red\">Tensor Attributes</span>"
   ]
  },
  {
   "cell_type": "markdown",
   "id": "dd76494e-8a84-4933-8794-fa7b40554640",
   "metadata": {},
   "source": [
    "Tensor attributes describe their shape, datatype, and the device on which they are stored."
   ]
  },
  {
   "cell_type": "code",
   "execution_count": 53,
   "id": "e992574a-db71-4185-b001-101990ae7e2b",
   "metadata": {
    "tags": []
   },
   "outputs": [
    {
     "name": "stdout",
     "output_type": "stream",
     "text": [
      "Shape of tensor: torch.Size([3, 4])\n",
      "Datatype of tensor: torch.float32\n",
      "Device tensor is stored on: cpu\n"
     ]
    }
   ],
   "source": [
    "tensor = torch.rand(3, 4)\n",
    "\n",
    "print(f\"Shape of tensor: {tensor.shape}\")\n",
    "print(f\"Datatype of tensor: {tensor.dtype}\")\n",
    "print(f\"Device tensor is stored on: {tensor.device}\")"
   ]
  },
  {
   "cell_type": "markdown",
   "id": "7d02e7be-c1ca-4bb3-97ca-fee74058ce72",
   "metadata": {},
   "source": [
    "---\n",
    "## <span style=\"color:red\">Tensor Operations</span>"
   ]
  },
  {
   "cell_type": "markdown",
   "id": "248a6ffe-bd10-4be6-b973-2a0a3ed7b782",
   "metadata": {},
   "source": [
    "Over 100 tensor operations, including transposing, indexing, slicing, mathematical operations, linear algebra, random sampling, and more are comprehensively described [here](https://pytorch.org/docs/stable/torch.html)"
   ]
  },
  {
   "cell_type": "markdown",
   "id": "ca1eb172-0f51-4aaa-833a-6122f68fb2c5",
   "metadata": {},
   "source": [
    "Each of them can be run on the GPU (at typically higher speeds than on a CPU)."
   ]
  },
  {
   "cell_type": "code",
   "execution_count": 56,
   "id": "7e7d5a38-6b01-4f60-b764-1c1b942ae0f9",
   "metadata": {
    "tags": []
   },
   "outputs": [],
   "source": [
    "# We move our tensor to the GPU if available\n",
    "if torch.cuda.is_available():\n",
    "  tensor = tensor.to('cuda')\n",
    "  print(f\"Device tensor is stored on: {tensor.device}\")"
   ]
  },
  {
   "cell_type": "markdown",
   "id": "8665335d-8623-403a-95e2-bed13d15e524",
   "metadata": {},
   "source": [
    "---\n",
    "### Standard numpy-like indexing and slicing:"
   ]
  },
  {
   "cell_type": "code",
   "execution_count": 58,
   "id": "a0cb4eed-3691-4213-8f13-8eeae1e09915",
   "metadata": {
    "tags": []
   },
   "outputs": [
    {
     "name": "stdout",
     "output_type": "stream",
     "text": [
      "tensor =\n",
      " tensor([[1., 0., 1., 1.],\n",
      "        [1., 0., 1., 1.],\n",
      "        [1., 0., 1., 1.],\n",
      "        [1., 0., 1., 1.]]) \n",
      "\n"
     ]
    }
   ],
   "source": [
    "tensor = torch.ones(4, 4)\n",
    "tensor[:,1] = 0\n",
    "print(f\"tensor =\\n {tensor} \\n\")"
   ]
  },
  {
   "cell_type": "markdown",
   "id": "6afda0fa-5250-49ac-928f-a18fbfdb2679",
   "metadata": {},
   "source": [
    "---\n",
    "### Joining tensors"
   ]
  },
  {
   "cell_type": "markdown",
   "id": "4ddcf8e2-0488-43a2-a671-d74379785bb3",
   "metadata": {},
   "source": [
    "You can use torch.cat to concatenate a sequence of tensors along a given dimension. See also torch.stack, another tensor joining operator that is subtly different from torch.cat."
   ]
  },
  {
   "cell_type": "code",
   "execution_count": 59,
   "id": "18c61beb-a055-4020-ba09-5e142c4f0b0a",
   "metadata": {
    "tags": []
   },
   "outputs": [
    {
     "name": "stdout",
     "output_type": "stream",
     "text": [
      "t1 =\n",
      " tensor([[1., 0., 1., 1., 1., 0., 1., 1., 1., 0., 1., 1.],\n",
      "        [1., 0., 1., 1., 1., 0., 1., 1., 1., 0., 1., 1.],\n",
      "        [1., 0., 1., 1., 1., 0., 1., 1., 1., 0., 1., 1.],\n",
      "        [1., 0., 1., 1., 1., 0., 1., 1., 1., 0., 1., 1.]]) \n",
      "\n"
     ]
    }
   ],
   "source": [
    "t1 = torch.cat([tensor, tensor, tensor], dim=1)\n",
    "print(f\"t1 =\\n {t1} \\n\")"
   ]
  },
  {
   "cell_type": "markdown",
   "id": "e9a596f2-ce29-400d-a38e-369bfc576ec0",
   "metadata": {
    "tags": []
   },
   "source": [
    "---\n",
    "### Mutliplying tensors"
   ]
  },
  {
   "cell_type": "markdown",
   "id": "b2165538-a8ec-4065-83e5-eb160e1249dc",
   "metadata": {},
   "source": [
    "---\n",
    "This computes the element-wise product"
   ]
  },
  {
   "cell_type": "code",
   "execution_count": 61,
   "id": "0f8d5d7e-a98c-4dde-9b12-9aaf08ceb0b2",
   "metadata": {
    "tags": []
   },
   "outputs": [
    {
     "name": "stdout",
     "output_type": "stream",
     "text": [
      "tensor.mul(tensor) \n",
      " tensor([[1., 0., 1., 1.],\n",
      "        [1., 0., 1., 1.],\n",
      "        [1., 0., 1., 1.],\n",
      "        [1., 0., 1., 1.]]) \n",
      "\n",
      "tensor * tensor \n",
      " tensor([[1., 0., 1., 1.],\n",
      "        [1., 0., 1., 1.],\n",
      "        [1., 0., 1., 1.],\n",
      "        [1., 0., 1., 1.]])\n"
     ]
    }
   ],
   "source": [
    "# This computes the element-wise product\n",
    "print(f\"tensor.mul(tensor) \\n {tensor.mul(tensor)} \\n\")\n",
    "# Alternative syntax:\n",
    "print(f\"tensor * tensor \\n {tensor * tensor}\")"
   ]
  },
  {
   "cell_type": "markdown",
   "id": "1fcc68b4-a221-47f3-8335-525955812268",
   "metadata": {},
   "source": [
    "---\n",
    "This computes the matrix multiplication between two tensors"
   ]
  },
  {
   "cell_type": "code",
   "execution_count": 62,
   "id": "483d00f8-d47a-46db-8cca-79009e3b1a5d",
   "metadata": {
    "tags": []
   },
   "outputs": [
    {
     "name": "stdout",
     "output_type": "stream",
     "text": [
      "tensor.matmul(tensor.T) \n",
      " tensor([[3., 3., 3., 3.],\n",
      "        [3., 3., 3., 3.],\n",
      "        [3., 3., 3., 3.],\n",
      "        [3., 3., 3., 3.]]) \n",
      "\n",
      "tensor @ tensor.T \n",
      " tensor([[3., 3., 3., 3.],\n",
      "        [3., 3., 3., 3.],\n",
      "        [3., 3., 3., 3.],\n",
      "        [3., 3., 3., 3.]])\n"
     ]
    }
   ],
   "source": [
    "print(f\"tensor.matmul(tensor.T) \\n {tensor.matmul(tensor.T)} \\n\")\n",
    "# Alternative syntax:\n",
    "print(f\"tensor @ tensor.T \\n {tensor @ tensor.T}\")"
   ]
  },
  {
   "cell_type": "markdown",
   "id": "a9034059-deb3-42a4-80fc-871903d80718",
   "metadata": {
    "tags": []
   },
   "source": [
    "---\n",
    "### In-place operations"
   ]
  },
  {
   "cell_type": "markdown",
   "id": "f54aae60-61ef-43cd-a9e2-bb5a520e12cd",
   "metadata": {},
   "source": [
    "Operations that have a _ suffix are in-place, this means that it modifies the tensor in place, without creating a new tensor. In other words, the operation changes the values of the tensor directly, without allocating any additional memory."
   ]
  },
  {
   "cell_type": "code",
   "execution_count": 64,
   "id": "f38acdd1-5196-40ae-9193-8cb791f14493",
   "metadata": {
    "tags": []
   },
   "outputs": [
    {
     "name": "stdout",
     "output_type": "stream",
     "text": [
      "tensor =\n",
      " tensor([[1., 0., 1., 1.],\n",
      "        [1., 0., 1., 1.],\n",
      "        [1., 0., 1., 1.],\n",
      "        [1., 0., 1., 1.]]) \n",
      "\n",
      "tensor =\n",
      " tensor([[6., 5., 6., 6.],\n",
      "        [6., 5., 6., 6.],\n",
      "        [6., 5., 6., 6.],\n",
      "        [6., 5., 6., 6.]]) \n",
      "\n"
     ]
    }
   ],
   "source": [
    "print(f\"tensor =\\n {tensor} \\n\")\n",
    "tensor.add_(5)\n",
    "print(f\"tensor =\\n {tensor} \\n\")"
   ]
  },
  {
   "cell_type": "markdown",
   "id": "5e18ddf6-a673-4c59-ac87-124fae3c0270",
   "metadata": {},
   "source": [
    "> **_In-place operations save some memory, but can be problematic when computing derivatives because of an immediate loss of history. Hence, their use is discouraged._**"
   ]
  },
  {
   "cell_type": "markdown",
   "id": "8ef81bfc-1ca3-441d-a891-c7613c4644f2",
   "metadata": {},
   "source": [
    "---\n",
    "## <span style=\"color:red\">Bridge with numpy</span>\n",
    "---"
   ]
  },
  {
   "cell_type": "markdown",
   "id": "0ca6a0de-602c-4b2e-9876-d64878f0e0b0",
   "metadata": {},
   "source": [
    "Tensors on the CPU and NumPy arrays can share their underlying memory locations, and changing one will change the other."
   ]
  },
  {
   "cell_type": "markdown",
   "id": "b7a8193f-b754-4c0c-bbb8-e28977d43e24",
   "metadata": {},
   "source": [
    "---\n",
    "### Tensor to NumPy array"
   ]
  },
  {
   "cell_type": "code",
   "execution_count": 66,
   "id": "af8a1126-9f83-4d98-85ae-dc2ab327b006",
   "metadata": {
    "tags": []
   },
   "outputs": [
    {
     "name": "stdout",
     "output_type": "stream",
     "text": [
      "t: \n",
      "tensor([1., 1., 1., 1., 1.]) \n",
      "\n",
      "n: \n",
      " [1. 1. 1. 1. 1.] \n",
      "\n"
     ]
    }
   ],
   "source": [
    "t = torch.ones(5)\n",
    "print(f\"t: \\n{t} \\n\")\n",
    "n = t.numpy()\n",
    "print(f\"n: \\n {n} \\n\")"
   ]
  },
  {
   "cell_type": "markdown",
   "id": "b23c5074-4b8f-41dd-ad2c-c93f99d8f8a2",
   "metadata": {},
   "source": [
    "---\n",
    "A change in the tensor reflects in the NumPy array."
   ]
  },
  {
   "cell_type": "code",
   "execution_count": 67,
   "id": "77871d75-913c-4f51-a5bf-57b018408d6a",
   "metadata": {
    "tags": []
   },
   "outputs": [
    {
     "name": "stdout",
     "output_type": "stream",
     "text": [
      "t: \n",
      "tensor([2., 2., 2., 2., 2.]) \n",
      "\n",
      "n: \n",
      " [2. 2. 2. 2. 2.] \n",
      "\n"
     ]
    }
   ],
   "source": [
    "t.add_(1)\n",
    "print(f\"t: \\n{t} \\n\")\n",
    "print(f\"n: \\n {n} \\n\")"
   ]
  },
  {
   "cell_type": "markdown",
   "id": "e5ecd12b-d3f9-4074-8bab-4101d4292aea",
   "metadata": {},
   "source": [
    "---\n",
    "### NumPy array to Tensor"
   ]
  },
  {
   "cell_type": "code",
   "execution_count": 69,
   "id": "a7c4c2a8-04c4-436e-a07d-ad831becb179",
   "metadata": {
    "tags": []
   },
   "outputs": [
    {
     "name": "stdout",
     "output_type": "stream",
     "text": [
      "n: \n",
      " [1. 1. 1. 1. 1.] \n",
      "\n",
      "t: \n",
      "tensor([1., 1., 1., 1., 1.], dtype=torch.float64) \n",
      "\n"
     ]
    }
   ],
   "source": [
    "n = np.ones(5)\n",
    "t = torch.from_numpy(n)\n",
    "print(f\"n: \\n {n} \\n\")\n",
    "print(f\"t: \\n{t} \\n\")"
   ]
  },
  {
   "cell_type": "markdown",
   "id": "b89f2f41-904b-4820-9000-6b136c9a234a",
   "metadata": {},
   "source": [
    "---\n",
    "Changes in the NumPy array reflects in the tensor."
   ]
  },
  {
   "cell_type": "code",
   "execution_count": 71,
   "id": "23375180-64f1-4590-9187-05b19cdab135",
   "metadata": {
    "tags": []
   },
   "outputs": [
    {
     "name": "stdout",
     "output_type": "stream",
     "text": [
      "n: \n",
      " [3. 3. 3. 3. 3.] \n",
      "\n",
      "t: \n",
      "tensor([3., 3., 3., 3., 3.], dtype=torch.float64) \n",
      "\n"
     ]
    }
   ],
   "source": [
    "np.add(n, 1, out=n)\n",
    "print(f\"n: \\n {n} \\n\")\n",
    "print(f\"t: \\n{t} \\n\")"
   ]
  },
  {
   "cell_type": "markdown",
   "id": "6a465a9f-84ce-4260-9525-d4117c0f5285",
   "metadata": {},
   "source": [
    "---\n",
    "### NumPy array to Tensor without shared memory"
   ]
  },
  {
   "cell_type": "code",
   "execution_count": 72,
   "id": "6d2ed971-ea44-4e3f-96d9-5f626a2d2f9b",
   "metadata": {
    "tags": []
   },
   "outputs": [
    {
     "name": "stdout",
     "output_type": "stream",
     "text": [
      "n: \n",
      " [1. 1. 1. 1. 1.] \n",
      "\n",
      "t: \n",
      "tensor([1., 1., 1., 1., 1.], dtype=torch.float64) \n",
      "\n",
      "n: \n",
      " [2. 2. 2. 2. 2.] \n",
      "\n",
      "t: \n",
      "tensor([1., 1., 1., 1., 1.], dtype=torch.float64) \n",
      "\n"
     ]
    }
   ],
   "source": [
    "n = np.ones(5)\n",
    "t = torch.from_numpy(n.copy())\n",
    "print(f\"n: \\n {n} \\n\")\n",
    "print(f\"t: \\n{t} \\n\")\n",
    "\n",
    "np.add(n, 1, out=n)\n",
    "print(f\"n: \\n {n} \\n\")\n",
    "print(f\"t: \\n{t} \\n\")"
   ]
  },
  {
   "cell_type": "code",
   "execution_count": null,
   "id": "bf05a8e4-0329-43c2-9383-d5f9b59914fb",
   "metadata": {},
   "outputs": [],
   "source": []
  }
 ],
 "metadata": {
  "kernelspec": {
   "display_name": "Python 3 (ipykernel)",
   "language": "python",
   "name": "python3"
  },
  "language_info": {
   "codemirror_mode": {
    "name": "ipython",
    "version": 3
   },
   "file_extension": ".py",
   "mimetype": "text/x-python",
   "name": "python",
   "nbconvert_exporter": "python",
   "pygments_lexer": "ipython3",
   "version": "3.10.0"
  }
 },
 "nbformat": 4,
 "nbformat_minor": 5
}
